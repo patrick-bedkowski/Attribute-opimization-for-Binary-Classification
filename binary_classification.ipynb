{
 "cells": [
  {
   "cell_type": "markdown",
   "source": [
    "### Read data"
   ],
   "metadata": {
    "collapsed": false,
    "pycharm": {
     "name": "#%% md\n"
    }
   }
  },
  {
   "cell_type": "markdown",
   "source": [
    "Dziękuję za dokumentację wstępną. Cieszę się żę uwzględnili Państwo moje uwagi odnośnie dodatkowych algorytmów optymalizacji.\n",
    "Z drobnych uwag to polecałbym skorzystać z gotowej biblioteki do algorytmów genetycznych np. PyGAD\n",
    "W dokumentacji brakuje mi informacji na temat podziału zbioru danych na treningowy (na którym otpymalizować powinni Państwo knn-a, walidacyjnym na którym obliczane będą metryki i testowy - który wykorzystany będzie do wyznaczenia końcowej jakości rozwiązania)"
   ],
   "metadata": {
    "collapsed": false,
    "pycharm": {
     "name": "#%% md\n"
    }
   }
  },
  {
   "cell_type": "code",
   "execution_count": 14,
   "outputs": [],
   "source": [
    "from sklearn.datasets import load_svmlight_file\n",
    "import pandas as pd\n",
    "from time import time\n",
    "\n",
    "def get_data():\n",
    "    # Assuming 'farm-ads-vect' is in SVMlight format\n",
    "    X, y = load_svmlight_file('data/farm-ads-vect')\n",
    "\n",
    "    # Convert sparse matrix to DataFrame\n",
    "    df_vectors = pd.DataFrame.sparse.from_spmatrix(X)\n",
    "\n",
    "    return df_vectors, y"
   ],
   "metadata": {
    "collapsed": false,
    "pycharm": {
     "name": "#%%\n"
    }
   }
  },
  {
   "cell_type": "code",
   "execution_count": 2,
   "outputs": [],
   "source": [
    "df, labels = get_data()"
   ],
   "metadata": {
    "collapsed": false,
    "pycharm": {
     "name": "#%%\n"
    }
   }
  },
  {
   "cell_type": "code",
   "execution_count": 3,
   "outputs": [
    {
     "data": {
      "text/plain": "   0      1      2      3      4      5      6      7      8      9      ...  \\\n0    1.0    1.0    1.0    1.0    1.0    1.0    1.0    1.0    1.0    0.0  ...   \n1    0.0    0.0    0.0    0.0    0.0    0.0    0.0    0.0    0.0    1.0  ...   \n2    0.0    0.0    0.0    0.0    0.0    0.0    0.0    0.0    0.0    0.0  ...   \n3    0.0    0.0    0.0    0.0    0.0    0.0    0.0    0.0    0.0    0.0  ...   \n4    0.0    0.0    0.0    0.0    0.0    0.0    0.0    1.0    1.0    0.0  ...   \n\n   54867  54868  54869  54870  54871  54872  54873  54874  54875  54876  \n0    0.0    0.0    0.0    0.0    0.0    0.0    0.0    0.0    0.0    0.0  \n1    0.0    0.0    0.0    0.0    0.0    0.0    0.0    0.0    0.0    0.0  \n2    0.0    0.0    0.0    0.0    0.0    0.0    0.0    0.0    0.0    0.0  \n3    0.0    0.0    0.0    0.0    0.0    0.0    0.0    0.0    0.0    0.0  \n4    0.0    0.0    0.0    0.0    0.0    0.0    0.0    0.0    0.0    0.0  \n\n[5 rows x 54877 columns]",
      "text/html": "<div>\n<style scoped>\n    .dataframe tbody tr th:only-of-type {\n        vertical-align: middle;\n    }\n\n    .dataframe tbody tr th {\n        vertical-align: top;\n    }\n\n    .dataframe thead th {\n        text-align: right;\n    }\n</style>\n<table border=\"1\" class=\"dataframe\">\n  <thead>\n    <tr style=\"text-align: right;\">\n      <th></th>\n      <th>0</th>\n      <th>1</th>\n      <th>2</th>\n      <th>3</th>\n      <th>4</th>\n      <th>5</th>\n      <th>6</th>\n      <th>7</th>\n      <th>8</th>\n      <th>9</th>\n      <th>...</th>\n      <th>54867</th>\n      <th>54868</th>\n      <th>54869</th>\n      <th>54870</th>\n      <th>54871</th>\n      <th>54872</th>\n      <th>54873</th>\n      <th>54874</th>\n      <th>54875</th>\n      <th>54876</th>\n    </tr>\n  </thead>\n  <tbody>\n    <tr>\n      <th>0</th>\n      <td>1.0</td>\n      <td>1.0</td>\n      <td>1.0</td>\n      <td>1.0</td>\n      <td>1.0</td>\n      <td>1.0</td>\n      <td>1.0</td>\n      <td>1.0</td>\n      <td>1.0</td>\n      <td>0.0</td>\n      <td>...</td>\n      <td>0.0</td>\n      <td>0.0</td>\n      <td>0.0</td>\n      <td>0.0</td>\n      <td>0.0</td>\n      <td>0.0</td>\n      <td>0.0</td>\n      <td>0.0</td>\n      <td>0.0</td>\n      <td>0.0</td>\n    </tr>\n    <tr>\n      <th>1</th>\n      <td>0.0</td>\n      <td>0.0</td>\n      <td>0.0</td>\n      <td>0.0</td>\n      <td>0.0</td>\n      <td>0.0</td>\n      <td>0.0</td>\n      <td>0.0</td>\n      <td>0.0</td>\n      <td>1.0</td>\n      <td>...</td>\n      <td>0.0</td>\n      <td>0.0</td>\n      <td>0.0</td>\n      <td>0.0</td>\n      <td>0.0</td>\n      <td>0.0</td>\n      <td>0.0</td>\n      <td>0.0</td>\n      <td>0.0</td>\n      <td>0.0</td>\n    </tr>\n    <tr>\n      <th>2</th>\n      <td>0.0</td>\n      <td>0.0</td>\n      <td>0.0</td>\n      <td>0.0</td>\n      <td>0.0</td>\n      <td>0.0</td>\n      <td>0.0</td>\n      <td>0.0</td>\n      <td>0.0</td>\n      <td>0.0</td>\n      <td>...</td>\n      <td>0.0</td>\n      <td>0.0</td>\n      <td>0.0</td>\n      <td>0.0</td>\n      <td>0.0</td>\n      <td>0.0</td>\n      <td>0.0</td>\n      <td>0.0</td>\n      <td>0.0</td>\n      <td>0.0</td>\n    </tr>\n    <tr>\n      <th>3</th>\n      <td>0.0</td>\n      <td>0.0</td>\n      <td>0.0</td>\n      <td>0.0</td>\n      <td>0.0</td>\n      <td>0.0</td>\n      <td>0.0</td>\n      <td>0.0</td>\n      <td>0.0</td>\n      <td>0.0</td>\n      <td>...</td>\n      <td>0.0</td>\n      <td>0.0</td>\n      <td>0.0</td>\n      <td>0.0</td>\n      <td>0.0</td>\n      <td>0.0</td>\n      <td>0.0</td>\n      <td>0.0</td>\n      <td>0.0</td>\n      <td>0.0</td>\n    </tr>\n    <tr>\n      <th>4</th>\n      <td>0.0</td>\n      <td>0.0</td>\n      <td>0.0</td>\n      <td>0.0</td>\n      <td>0.0</td>\n      <td>0.0</td>\n      <td>0.0</td>\n      <td>1.0</td>\n      <td>1.0</td>\n      <td>0.0</td>\n      <td>...</td>\n      <td>0.0</td>\n      <td>0.0</td>\n      <td>0.0</td>\n      <td>0.0</td>\n      <td>0.0</td>\n      <td>0.0</td>\n      <td>0.0</td>\n      <td>0.0</td>\n      <td>0.0</td>\n      <td>0.0</td>\n    </tr>\n  </tbody>\n</table>\n<p>5 rows × 54877 columns</p>\n</div>"
     },
     "execution_count": 3,
     "metadata": {},
     "output_type": "execute_result"
    }
   ],
   "source": [
    "df.head()"
   ],
   "metadata": {
    "collapsed": false,
    "pycharm": {
     "name": "#%%\n"
    }
   }
  },
  {
   "cell_type": "code",
   "execution_count": 4,
   "outputs": [
    {
     "data": {
      "text/plain": "(4143, 54877)"
     },
     "execution_count": 4,
     "metadata": {},
     "output_type": "execute_result"
    }
   ],
   "source": [
    "df.shape"
   ],
   "metadata": {
    "collapsed": false,
    "pycharm": {
     "name": "#%%\n"
    }
   }
  },
  {
   "cell_type": "code",
   "execution_count": 39,
   "outputs": [],
   "source": [
    "from sklearn.model_selection import train_test_split\n",
    "from sklearn.neighbors import KNeighborsClassifier\n",
    "from sklearn.metrics import accuracy_score, f1_score\n",
    "\n",
    "def evaluate_model(model, X_test, y_test):\n",
    "    \"\"\"\n",
    "    Evaluate a logistic regression model on the test data.\n",
    "\n",
    "    Parameters:\n",
    "    - model: trained logistic regression model\n",
    "    - X_test: DataFrame, feature vectors for testing\n",
    "    - y_test: Series, true labels for testing\n",
    "\n",
    "    Returns:\n",
    "    - accuracy: float, accuracy of the model on the test set\n",
    "    - report: str, classification report (includes precision, recall, f1-score, and support)\n",
    "    \"\"\"\n",
    "    y_pred = model.predict(X_test)\n",
    "    accuracy = accuracy_score(y_test, y_pred)\n",
    "    f1 = f1_score(y_test, y_pred)\n",
    "    return accuracy, f1\n",
    "\n",
    "\n",
    "def train_knn(X_train, y_train, n_neighbors=5):\n",
    "    \"\"\"\n",
    "    Train a k-nearest neighbors (KNN) model on the training data.\n",
    "\n",
    "    Parameters:\n",
    "    - X_train: DataFrame, feature vectors for training\n",
    "    - y_train: Series, labels for training\n",
    "    - n_neighbors: int, number of neighbors to consider (default is 5)\n",
    "\n",
    "    Returns:\n",
    "    - model: trained KNN model\n",
    "    \"\"\"\n",
    "    model = KNeighborsClassifier(n_neighbors=n_neighbors)\n",
    "    model.fit(X_train, y_train)\n",
    "    return model"
   ],
   "metadata": {
    "collapsed": false,
    "pycharm": {
     "name": "#%%\n"
    }
   }
  },
  {
   "cell_type": "code",
   "execution_count": 40,
   "outputs": [],
   "source": [
    "from typing import List\n",
    "\n",
    "\n",
    "def evaluate_attribute_set(attribute_names: List[str], df, labels):\n",
    "    df_temp = df[attribute_names]\n",
    "\n",
    "    X_train, X_val, y_train, y_val = train_test_split(df_temp, labels, test_size=0.2, random_state=42)\n",
    "\n",
    "    # Train the logistic regression model\n",
    "    model = train_knn(X_train, y_train)\n",
    "\n",
    "    # Evaluate the model\n",
    "    accuracy, f1 = evaluate_model(model, X_val, y_val)\n",
    "\n",
    "    return accuracy, f1"
   ],
   "metadata": {
    "collapsed": false,
    "pycharm": {
     "name": "#%%\n"
    }
   }
  },
  {
   "cell_type": "code",
   "execution_count": 46,
   "outputs": [],
   "source": [
    "def sequential_forward_selection(df, labels, max_features=None):\n",
    "    \"\"\"\n",
    "    Perform Sequential Forward Selection (SFS) for feature selection.\n",
    "\n",
    "    Parameters:\n",
    "    - X_train: DataFrame, feature vectors for training\n",
    "    - y_train: Series, labels for training\n",
    "    - X_test: DataFrame, feature vectors for testing\n",
    "    - y_test: Series, true labels for testing\n",
    "    - max_features: int, maximum number of features to select (default is None)\n",
    "\n",
    "    Returns:\n",
    "    - best_features: list, selected features\n",
    "    \"\"\"\n",
    "    num_features = df.shape[1]\n",
    "    all_features = list(df.columns)\n",
    "    selected_features = []\n",
    "    best_accuracy = 0.0\n",
    "    best_f1 = 0.0\n",
    "\n",
    "    df_performance = pd.DataFrame(columns=[\"selected_features\", \"num_selected_features\", \"time\", \"accuracy_validate\"])\n",
    "    start_time = time()\n",
    "    while len(selected_features) < num_features and (max_features is None or len(selected_features) < max_features):\n",
    "        remaining_features = [feature for feature in all_features if feature not in selected_features]\n",
    "        current_best_feature = None\n",
    "\n",
    "        for feature in remaining_features:\n",
    "            trial_features = selected_features + [feature]\n",
    "            accuracy, f1 = evaluate_attribute_set(trial_features, df, labels)\n",
    "\n",
    "            if accuracy > best_accuracy:\n",
    "                best_accuracy = accuracy\n",
    "                best_f1 = f1\n",
    "                current_best_feature = feature\n",
    "\n",
    "        if current_best_feature is not None:\n",
    "            selected_features.append(current_best_feature)\n",
    "            print(f\"Selected Features: {selected_features}\")\n",
    "            print(f\"Accuracy with Selected Features: {best_accuracy:.2f}\")\n",
    "            df_performance = df_performance.append({\n",
    "                \"selected_features\": selected_features.copy(),\n",
    "                \"num_selected_features\": len(selected_features),\n",
    "                \"time\": time() - start_time,\n",
    "                \"accuracy_validate\": best_accuracy,\n",
    "                \"f1_validate\": best_f1\n",
    "            }, ignore_index=True)\n",
    "\n",
    "    return selected_features, best_accuracy, best_f1, df_performance"
   ],
   "metadata": {
    "collapsed": false,
    "pycharm": {
     "name": "#%%\n"
    }
   }
  },
  {
   "cell_type": "code",
   "execution_count": 47,
   "outputs": [],
   "source": [
    "N_OF_FEATURES_TO_TEST = 100"
   ],
   "metadata": {
    "collapsed": false,
    "pycharm": {
     "name": "#%%\n"
    }
   }
  },
  {
   "cell_type": "code",
   "execution_count": 48,
   "outputs": [],
   "source": [
    "X_train, X_test, y_train, y_test = train_test_split(df.iloc[:,:N_OF_FEATURES_TO_TEST], labels, test_size=0.2, random_state=42)"
   ],
   "metadata": {
    "collapsed": false,
    "pycharm": {
     "name": "#%%\n"
    }
   }
  },
  {
   "cell_type": "code",
   "execution_count": null,
   "outputs": [
    {
     "name": "stdout",
     "output_type": "stream",
     "text": [
      "Selected Features: [15]\n",
      "Accuracy with Selected Features: 0.64\n"
     ]
    },
    {
     "name": "stderr",
     "output_type": "stream",
     "text": [
      "C:\\Users\\PB\\AppData\\Local\\Temp\\ipykernel_35860\\1462941052.py:40: FutureWarning: The frame.append method is deprecated and will be removed from pandas in a future version. Use pandas.concat instead.\n",
      "  df_performance = df_performance.append({\n"
     ]
    }
   ],
   "source": [
    "selected_features, best_accuracy, best_f1, df_performance = sequential_forward_selection(X_train, y_train, max_features=5)\n",
    "selected_features, best_accuracy"
   ],
   "metadata": {
    "collapsed": false,
    "pycharm": {
     "name": "#%%\n",
     "is_executing": true
    }
   }
  },
  {
   "cell_type": "code",
   "execution_count": 38,
   "outputs": [
    {
     "data": {
      "text/plain": "      selected_features num_selected_features       time  accuracy\n0                  [38]                     1  12.350553  0.720145\n1              [38, 15]                     2  23.373341  0.752714\n2          [38, 15, 87]                     3  34.445109  0.758745\n3      [38, 15, 87, 76]                     4  45.489959  0.761158\n4  [38, 15, 87, 76, 78]                     5  56.708308  0.767189",
      "text/html": "<div>\n<style scoped>\n    .dataframe tbody tr th:only-of-type {\n        vertical-align: middle;\n    }\n\n    .dataframe tbody tr th {\n        vertical-align: top;\n    }\n\n    .dataframe thead th {\n        text-align: right;\n    }\n</style>\n<table border=\"1\" class=\"dataframe\">\n  <thead>\n    <tr style=\"text-align: right;\">\n      <th></th>\n      <th>selected_features</th>\n      <th>num_selected_features</th>\n      <th>time</th>\n      <th>accuracy</th>\n    </tr>\n  </thead>\n  <tbody>\n    <tr>\n      <th>0</th>\n      <td>[38]</td>\n      <td>1</td>\n      <td>12.350553</td>\n      <td>0.720145</td>\n    </tr>\n    <tr>\n      <th>1</th>\n      <td>[38, 15]</td>\n      <td>2</td>\n      <td>23.373341</td>\n      <td>0.752714</td>\n    </tr>\n    <tr>\n      <th>2</th>\n      <td>[38, 15, 87]</td>\n      <td>3</td>\n      <td>34.445109</td>\n      <td>0.758745</td>\n    </tr>\n    <tr>\n      <th>3</th>\n      <td>[38, 15, 87, 76]</td>\n      <td>4</td>\n      <td>45.489959</td>\n      <td>0.761158</td>\n    </tr>\n    <tr>\n      <th>4</th>\n      <td>[38, 15, 87, 76, 78]</td>\n      <td>5</td>\n      <td>56.708308</td>\n      <td>0.767189</td>\n    </tr>\n  </tbody>\n</table>\n</div>"
     },
     "execution_count": 38,
     "metadata": {},
     "output_type": "execute_result"
    }
   ],
   "source": [
    "df_performance"
   ],
   "metadata": {
    "collapsed": false,
    "pycharm": {
     "name": "#%%\n"
    }
   }
  },
  {
   "cell_type": "code",
   "execution_count": null,
   "outputs": [],
   "source": [
    "df_performance"
   ],
   "metadata": {
    "collapsed": false,
    "pycharm": {
     "name": "#%%\n",
     "is_executing": true
    }
   }
  }
 ],
 "metadata": {
  "kernelspec": {
   "name": "tf",
   "language": "python",
   "display_name": "tf"
  },
  "language_info": {
   "codemirror_mode": {
    "name": "ipython",
    "version": 2
   },
   "file_extension": ".py",
   "mimetype": "text/x-python",
   "name": "python",
   "nbconvert_exporter": "python",
   "pygments_lexer": "ipython2",
   "version": "2.7.6"
  }
 },
 "nbformat": 4,
 "nbformat_minor": 0
}